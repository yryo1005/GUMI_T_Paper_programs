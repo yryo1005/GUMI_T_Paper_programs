{
 "cells": [
  {
   "cell_type": "code",
   "execution_count": 1,
   "id": "ffc93d55",
   "metadata": {},
   "outputs": [],
   "source": [
    "import re\n",
    "import json\n",
    "import numpy as np"
   ]
  },
  {
   "cell_type": "code",
   "execution_count": 2,
   "id": "2f056f03",
   "metadata": {},
   "outputs": [],
   "source": [
    "METHODS = [\n",
    "    \"Gemini\",\n",
    "    \"GUMI_AE\",\n",
    "    \"human\",\n",
    "    \"Llama\",\n",
    "    \"NJM\",\n",
    "    \"WiT(FC,L5)\",\n",
    "    \"WiT(L5)\"\n",
    "]"
   ]
  },
  {
   "cell_type": "code",
   "execution_count": 3,
   "id": "65562de4",
   "metadata": {},
   "outputs": [],
   "source": [
    "def remove_emoji(text):\n",
    "    emoji_pattern = re.compile(\n",
    "        \"[\"\n",
    "        \"\\U0001F600-\\U0001F64F\"  # 顔文字\n",
    "        \"\\U0001F300-\\U0001F5FF\"  # 記号 & 絵\n",
    "        \"\\U0001F680-\\U0001F6FF\"  # 乗り物 & 記号\n",
    "        \"\\U0001F700-\\U0001F77F\"  # アルケミー記号\n",
    "        \"\\U0001F780-\\U0001F7FF\"  # 幾何学模様\n",
    "        \"\\U0001F800-\\U0001F8FF\"  # 矢印など\n",
    "        \"\\U0001F900-\\U0001F9FF\"  # 補助絵文字\n",
    "        \"\\U0001FA00-\\U0001FA6F\"  # 拡張補助絵文字\n",
    "        \"\\U0001FA70-\\U0001FAFF\"  # 追加拡張\n",
    "        \"\\U0001FB00-\\U0001FBFF\"  # その他\n",
    "        \"\\U0001F1E6-\\U0001F1FF\"  # 国旗（リージョン記号）\n",
    "        \"]+\",\n",
    "        flags=re.UNICODE\n",
    "    )\n",
    "    return emoji_pattern.sub('', text)"
   ]
  },
  {
   "cell_type": "code",
   "execution_count": 5,
   "id": "710884ba",
   "metadata": {},
   "outputs": [],
   "source": [
    "BOKES = dict()\n",
    "for M in METHODS:\n",
    "    with open(f\"Generated_Bokes/{M}_bokes.json\", \"r\") as f:\n",
    "        bokes = json.load(f)\n",
    "    indexes = list(bokes.keys())\n",
    "    # インデックスをランダムに並べ替える\n",
    "    np.random.shuffle(indexes)\n",
    "    BOKES[M] = {\n",
    "        \"bokes\": bokes,\n",
    "        \"indexes\": indexes\n",
    "    }\n",
    "\n",
    "ALL_BOKES = list()\n",
    "for i in range(len(BOKES[\"Gemini\"][\"bokes\"])):\n",
    "    # 手法を並べ替える\n",
    "    np.random.shuffle(METHODS)\n",
    "\n",
    "    for M in METHODS:\n",
    "        \n",
    "        index = BOKES[M][\"indexes\"][i]\n",
    "        if M == \"human\":\n",
    "            star = BOKES[M]['bokes'][index][\"star\"]\n",
    "            boke = BOKES[M]['bokes'][index][\"boke\"]\n",
    "        else:\n",
    "            star = 0\n",
    "            boke = BOKES[M][\"bokes\"][index]\n",
    "        \n",
    "        # 絵文字を取り除く\n",
    "        boke = remove_emoji(boke)\n",
    "\n",
    "        if M == \"GUMI_AE\":\n",
    "            M = \"GUMI-AE\"\n",
    "\n",
    "        ALL_BOKES.append(\n",
    "            [f\"{M}_{index}\", boke, star]\n",
    "        )"
   ]
  },
  {
   "cell_type": "code",
   "execution_count": 7,
   "id": "cb8a5f69",
   "metadata": {},
   "outputs": [],
   "source": [
    "with open(\"Generated_Bokes/all_bokes.json\", \"w\") as f:\n",
    "    json.dump(ALL_BOKES, f, ensure_ascii = False, indent = 4)"
   ]
  }
 ],
 "metadata": {
  "kernelspec": {
   "display_name": "Colab_20250113",
   "language": "python",
   "name": "python3"
  },
  "language_info": {
   "codemirror_mode": {
    "name": "ipython",
    "version": 3
   },
   "file_extension": ".py",
   "mimetype": "text/x-python",
   "name": "python",
   "nbconvert_exporter": "python",
   "pygments_lexer": "ipython3",
   "version": "3.11.11"
  }
 },
 "nbformat": 4,
 "nbformat_minor": 5
}
