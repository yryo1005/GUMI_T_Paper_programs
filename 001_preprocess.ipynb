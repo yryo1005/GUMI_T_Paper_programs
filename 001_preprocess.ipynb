{
 "cells": [
  {
   "cell_type": "code",
   "execution_count": 1,
   "id": "1e235642",
   "metadata": {},
   "outputs": [],
   "source": [
    "import os\n",
    "import shutil"
   ]
  },
  {
   "cell_type": "code",
   "execution_count": 2,
   "id": "8fa43e9b",
   "metadata": {},
   "outputs": [],
   "source": [
    "target_dirs = [\n",
    "    \"../datas/\"\n",
    "    \"../results/\",\n",
    "    \"test_images/\"\n",
    "]\n",
    "\n",
    "for D in target_dirs:\n",
    "    os.makedirs(D, exist_ok = True)"
   ]
  },
  {
   "cell_type": "code",
   "execution_count": null,
   "id": "8013ae5a",
   "metadata": {},
   "outputs": [
    {
     "name": "stdout",
     "output_type": "stream",
     "text": [
      "--2025-05-06 13:27:21--  https://user0514.cdnw.net/shared/img/thumb/OZP68_honmaniomoshiroi.jpg\n",
      "Resolving user0514.cdnw.net (user0514.cdnw.net)... 172.234.95.224\n",
      "Connecting to user0514.cdnw.net (user0514.cdnw.net)|172.234.95.224|:443... connected.\n",
      "HTTP request sent, awaiting response... 200 OK\n",
      "Length: 542441 (530K) [image/jpeg]\n",
      "Saving to: ‘test_images/001.jpg’\n",
      "\n",
      "test_images/001.jpg 100%[===================>] 529.73K  --.-KB/s    in 0.04s   \n",
      "\n",
      "2025-05-06 13:27:22 (11.6 MB/s) - ‘test_images/001.jpg’ saved [542441/542441]\n",
      "\n",
      "--2025-05-06 13:27:22--  https://user0514.cdnw.net/shared/img/thumb/150711109603_TP_V.jpg\n",
      "Resolving user0514.cdnw.net (user0514.cdnw.net)... 172.233.66.71\n",
      "Connecting to user0514.cdnw.net (user0514.cdnw.net)|172.233.66.71|:443... connected.\n"
     ]
    }
   ],
   "source": [
    "!wget https://user0514.cdnw.net/shared/img/thumb/OZP68_honmaniomoshiroi.jpg -O test_images/001.jpg\n",
    "!wget https://user0514.cdnw.net/shared/img/thumb/150711109603_TP_V.jpg -O test_images/002.jpg\n",
    "!wget https://user0514.cdnw.net/shared/img/thumb/hageIMGL0673_TP_V4.jpg -O test_images/003.jpg\n",
    "!wget https://pbs.twimg.com/media/C8C0VVHVwAEAOA7.jpg -O test_images/004.jpg\n",
    "!wget https://aphoto.love/wp-content/uploads/2020/08/2020-08-25-09.41.29-1024x683.jpg -O test_images/005.jpg\n",
    "!wget https://thumb.photo-ac.com/80/80a405b9ce185c849fe9bd9f98a74a26_t.jpeg -O test_images/006.jpg\n",
    "!wget https://bushi-woman.jp/wp-content/uploads/2021/05/cat-wear-white-bread-1024x1024.jpg -O test_images/007.jpg\n",
    "!wget https://bushi-woman.jp/wp-content/uploads/2021/05/rabbit-sunglass-yellow-ic-scaled-e1623573343534-1024x1024.jpg -O test_images/008.jpg\n",
    "!wget https://user0514.cdnw.net/shared/img/thumb/LGTM_dandast23_TP_V2.jpg -O test_images/009.jpg\n",
    "!wget https://www.comeluck.jp/kamuken/thumbnail/35715_490_368.jpg -O test_images/010.jpg"
   ]
  },
  {
   "cell_type": "code",
   "execution_count": 3,
   "id": "4a6b47c8",
   "metadata": {},
   "outputs": [],
   "source": [
    "shutil.unpack_archive(\"../datas/Bokete_Caption_Classification_Detection.zip\",\n",
    "                      \"../datas/Bokete_Dataset/\")"
   ]
  },
  {
   "cell_type": "code",
   "execution_count": 4,
   "id": "2623d525",
   "metadata": {},
   "outputs": [],
   "source": [
    "shutil.unpack_archive(\"../datas/True_True_0.75_True_8192_31_4_16.zip\",\n",
    "                      \"../datas/\")"
   ]
  }
 ],
 "metadata": {
  "kernelspec": {
   "display_name": "Colab_20250113",
   "language": "python",
   "name": "python3"
  },
  "language_info": {
   "codemirror_mode": {
    "name": "ipython",
    "version": 3
   },
   "file_extension": ".py",
   "mimetype": "text/x-python",
   "name": "python",
   "nbconvert_exporter": "python",
   "pygments_lexer": "ipython3",
   "version": "3.11.11"
  }
 },
 "nbformat": 4,
 "nbformat_minor": 5
}
