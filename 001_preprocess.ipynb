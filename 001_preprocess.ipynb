{
 "cells": [
  {
   "cell_type": "code",
   "execution_count": 1,
   "id": "1e235642",
   "metadata": {},
   "outputs": [],
   "source": [
    "import os\n",
    "import shutil"
   ]
  },
  {
   "cell_type": "code",
   "execution_count": 2,
   "id": "8fa43e9b",
   "metadata": {},
   "outputs": [],
   "source": [
    "target_dirs = [\n",
    "    \"../datas/\"\n",
    "    \"../results/\",\n",
    "    \"test_images/\"\n",
    "]\n",
    "\n",
    "for D in target_dirs:\n",
    "    os.makedirs(D, exist_ok = True)"
   ]
  },
  {
   "cell_type": "code",
   "execution_count": 3,
   "id": "8013ae5a",
   "metadata": {},
   "outputs": [
    {
     "name": "stdout",
     "output_type": "stream",
     "text": [
      "--2025-05-05 13:04:07--  https://user0514.cdnw.net/shared/img/thumb/OZP68_honmaniomoshiroi.jpg\n",
      "Resolving user0514.cdnw.net (user0514.cdnw.net)... 172.105.216.58\n",
      "Connecting to user0514.cdnw.net (user0514.cdnw.net)|172.105.216.58|:443... connected.\n",
      "HTTP request sent, awaiting response... 200 OK\n",
      "Length: 542441 (530K) [image/jpeg]\n",
      "Saving to: ‘test_images/001.jpg’\n",
      "\n",
      "test_images/001.jpg 100%[===================>] 529.73K  --.-KB/s    in 0.1s    \n",
      "\n",
      "2025-05-05 13:04:08 (5.30 MB/s) - ‘test_images/001.jpg’ saved [542441/542441]\n",
      "\n"
     ]
    }
   ],
   "source": [
    "!wget https://user0514.cdnw.net/shared/img/thumb/OZP68_honmaniomoshiroi.jpg -O test_images/001.jpg"
   ]
  },
  {
   "cell_type": "code",
   "execution_count": 3,
   "id": "4a6b47c8",
   "metadata": {},
   "outputs": [],
   "source": [
    "shutil.unpack_archive(\"../datas/Bokete_Caption_Classification_Detection.zip\",\n",
    "                      \"../datas/Bokete_Dataset/\")"
   ]
  },
  {
   "cell_type": "code",
   "execution_count": 4,
   "id": "2623d525",
   "metadata": {},
   "outputs": [],
   "source": [
    "shutil.unpack_archive(\"../datas/True_True_0.75_True_8192_31_4_16.zip\",\n",
    "                      \"../datas/\")"
   ]
  }
 ],
 "metadata": {
  "kernelspec": {
   "display_name": "Colab_20250113",
   "language": "python",
   "name": "python3"
  },
  "language_info": {
   "codemirror_mode": {
    "name": "ipython",
    "version": 3
   },
   "file_extension": ".py",
   "mimetype": "text/x-python",
   "name": "python",
   "nbconvert_exporter": "python",
   "pygments_lexer": "ipython3",
   "version": "3.11.11"
  }
 },
 "nbformat": 4,
 "nbformat_minor": 5
}
