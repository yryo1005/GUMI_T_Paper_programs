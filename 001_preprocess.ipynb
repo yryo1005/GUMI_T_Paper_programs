{
 "cells": [
  {
   "cell_type": "code",
   "execution_count": 1,
   "id": "1e235642",
   "metadata": {},
   "outputs": [],
   "source": [
    "import os\n",
    "import shutil"
   ]
  },
  {
   "cell_type": "code",
   "execution_count": 4,
   "id": "8fa43e9b",
   "metadata": {},
   "outputs": [],
   "source": [
    "target_dirs = [\n",
    "    \"../datas/\"\n",
    "    \"../results/\"\n",
    "]\n",
    "\n",
    "for D in target_dirs:\n",
    "    os.makedirs(D, exist_ok = True)"
   ]
  },
  {
   "cell_type": "code",
   "execution_count": 5,
   "id": "4a6b47c8",
   "metadata": {},
   "outputs": [],
   "source": [
    "shutil.unpack_archive(\"../datas/Bokete_Caption_Classification_Detection.zip\",\n",
    "                      \"../datas/Bokete_Dataset/\")"
   ]
  }
 ],
 "metadata": {
  "kernelspec": {
   "display_name": "Colab_20250113",
   "language": "python",
   "name": "python3"
  },
  "language_info": {
   "codemirror_mode": {
    "name": "ipython",
    "version": 3
   },
   "file_extension": ".py",
   "mimetype": "text/x-python",
   "name": "python",
   "nbconvert_exporter": "python",
   "pygments_lexer": "ipython3",
   "version": "3.11.11"
  }
 },
 "nbformat": 4,
 "nbformat_minor": 5
}
